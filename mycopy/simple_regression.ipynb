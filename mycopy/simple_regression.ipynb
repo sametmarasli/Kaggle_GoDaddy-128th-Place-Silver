{
 "cells": [
  {
   "attachments": {},
   "cell_type": "markdown",
   "metadata": {},
   "source": [
    "\n",
    "- **pct_bb_[year]** - The percentage of households in the county with access to broadband of any type. Derived from ACS table B28002: PRESENCE AND TYPES OF INTERNET SUBSCRIPTIONS IN HOUSEHOLD.\n",
    "- **cfips** - The CFIPS code.\n",
    "- **pct_college_[year]** - The percent of the population in the county over age 25 with a 4-year college degree. Derived from ACS table S1501: EDUCATIONAL ATTAINMENT.\n",
    "- **pct_foreign_born_[year]** - The percent of the population in the county born outside of the United States. Derived from ACS table DP02: SELECTED SOCIAL CHARACTERISTICS IN THE UNITED STATES.\n",
    "- **pct_it_workers_[year]** - The percent of the workforce in the county employed in information related industries. Derived from ACS table S2405: INDUSTRY BY OCCUPATION FOR THE CIVILIAN EMPLOYED POPULATION 16 YEARS AND OVER.\n",
    "- **median_hh_inc_[year]** - The median household income in the county. Derived from ACS table S1901: INCOME IN THE PAST 12 MONTHS (IN 2021 INFLATION-ADJUSTED DOLLARS).\n",
    "\n"
   ]
  },
  {
   "cell_type": "markdown",
   "metadata": {},
   "source": [
    "# Data"
   ]
  },
  {
   "cell_type": "code",
   "execution_count": 2,
   "metadata": {},
   "outputs": [],
   "source": [
    "import pandas as pd\n",
    "import numpy as np\n",
    "import matplotlib.pyplot as plt"
   ]
  },
  {
   "cell_type": "code",
   "execution_count": 3,
   "metadata": {},
   "outputs": [],
   "source": [
    "census_starter = pd.read_csv('./data/census_starter.csv')\n",
    "train = pd.read_csv('./data/train.csv')\n",
    "test = pd.read_csv('./data/test.csv')\n",
    "\n",
    "\n",
    "# train['id_unique'] = train.apply(lambda x: x['row_id'].split('_')[0],axis=1)\n",
    "# train['id_state'] = train.apply(lambda x: x['row_id'].split('_')[0][:-3],axis=1)\n",
    "# train['id_county'] = train.apply(lambda x: x['row_id'].split('_')[0][-3:],axis=1)\n",
    "# train['id_date'] = train.apply(lambda x: x['row_id'].split('_')[1],axis=1)\n",
    "    \n",
    "\n",
    "# test['id_unique'] = test.apply(lambda x: x['row_id'].split('_')[0],axis=1)\n",
    "# test['id_state'] = test.apply(lambda x: x['row_id'].split('_')[0][:-3],axis=1)\n",
    "# test['id_county'] = test.apply(lambda x: x['row_id'].split('_')[0][-3:],axis=1)\n",
    "# test['id_date'] = test.apply(lambda x: x['row_id'].split('_')[1],axis=1)"
   ]
  },
  {
   "cell_type": "markdown",
   "metadata": {},
   "source": [
    "# Metric"
   ]
  },
  {
   "cell_type": "code",
   "execution_count": 5,
   "metadata": {},
   "outputs": [],
   "source": [
    "def SMAPE(y_true, y_pred):\n",
    "    \"\"\"\n",
    "    Symmetric Mean Absolute Percentage Error (SMAPE)\n",
    "    \"\"\"\n",
    "    y_true = np.array(y_true)\n",
    "    denominator = (y_true + np.abs(y_pred)) / 200.0\n",
    "    diff = np.abs(y_true - y_pred) / denominator\n",
    "    diff[denominator == 0] = 0.0\n",
    "    return np.mean(diff)\n"
   ]
  },
  {
   "cell_type": "markdown",
   "metadata": {},
   "source": [
    "# Baseline"
   ]
  },
  {
   "cell_type": "code",
   "execution_count": 6,
   "metadata": {},
   "outputs": [],
   "source": [
    "train[\"first_day_of_month\"] = pd.to_datetime(train[\"first_day_of_month\"])\n",
    "test[\"first_day_of_month\"] = pd.to_datetime(test[\"first_day_of_month\"])\n",
    "\n",
    "train_periods = np.sort(train.first_day_of_month.unique())\n",
    "train['periods'] = train.first_day_of_month.map(dict(zip(train_periods,range(len(train_periods)))))\n",
    "\n",
    "test_periods = np.sort(test.first_day_of_month.unique())\n",
    "test['periods'] = test.first_day_of_month.map(dict(zip(test_periods,range(len(train_periods),len(train_periods)+len(test_periods)))))"
   ]
  },
  {
   "cell_type": "code",
   "execution_count": 7,
   "metadata": {},
   "outputs": [
    {
     "data": {
      "text/plain": [
       "((97185, 9), (25080, 9), (25080, 4))"
      ]
     },
     "execution_count": 7,
     "metadata": {},
     "output_type": "execute_result"
    }
   ],
   "source": [
    "K = 8\n",
    "train_train = train[train.periods<=train.periods.max()-K].reset_index()\n",
    "train_validate = train[train.periods>train.periods.max()-K].reset_index()\n",
    "\n",
    "train_train.shape, train_validate.shape, test.shape\n"
   ]
  },
  {
   "cell_type": "code",
   "execution_count": 8,
   "metadata": {},
   "outputs": [],
   "source": [
    "## Validate the baseline\n",
    "train_train = train_train.sort_values(by=\"first_day_of_month\").reset_index(drop=True)\n",
    "last_target = train_train.groupby(\"cfips\").tail(1)[[\"cfips\", \"microbusiness_density\"]]\n",
    "last_target_dict = dict(zip(last_target['cfips'].values , last_target['microbusiness_density'].values))\n",
    "train_validate['pred_microbusiness_density'] = train_validate['cfips'].map(last_target_dict)\n"
   ]
  },
  {
   "cell_type": "code",
   "execution_count": 9,
   "metadata": {},
   "outputs": [
    {
     "data": {
      "text/plain": [
       "1.5255092632267926"
      ]
     },
     "execution_count": 9,
     "metadata": {},
     "output_type": "execute_result"
    }
   ],
   "source": [
    "condition = train_validate['periods'] == train_validate['periods'].min()\n",
    "\n",
    "SMAPE(y_pred=train_validate.loc[condition,'pred_microbusiness_density'], y_true=train_validate.loc[condition,'microbusiness_density'])"
   ]
  },
  {
   "cell_type": "code",
   "execution_count": 10,
   "metadata": {},
   "outputs": [
    {
     "data": {
      "text/html": [
       "<div>\n",
       "<style scoped>\n",
       "    .dataframe tbody tr th:only-of-type {\n",
       "        vertical-align: middle;\n",
       "    }\n",
       "\n",
       "    .dataframe tbody tr th {\n",
       "        vertical-align: top;\n",
       "    }\n",
       "\n",
       "    .dataframe thead th {\n",
       "        text-align: right;\n",
       "    }\n",
       "</style>\n",
       "<table border=\"1\" class=\"dataframe\">\n",
       "  <thead>\n",
       "    <tr style=\"text-align: right;\">\n",
       "      <th></th>\n",
       "      <th>row_id</th>\n",
       "      <th>cfips</th>\n",
       "      <th>first_day_of_month</th>\n",
       "      <th>periods</th>\n",
       "    </tr>\n",
       "  </thead>\n",
       "  <tbody>\n",
       "    <tr>\n",
       "      <th>0</th>\n",
       "      <td>1001_2022-11-01</td>\n",
       "      <td>1001</td>\n",
       "      <td>2022-11-01</td>\n",
       "      <td>39</td>\n",
       "    </tr>\n",
       "    <tr>\n",
       "      <th>1</th>\n",
       "      <td>1003_2022-11-01</td>\n",
       "      <td>1003</td>\n",
       "      <td>2022-11-01</td>\n",
       "      <td>39</td>\n",
       "    </tr>\n",
       "    <tr>\n",
       "      <th>2</th>\n",
       "      <td>1005_2022-11-01</td>\n",
       "      <td>1005</td>\n",
       "      <td>2022-11-01</td>\n",
       "      <td>39</td>\n",
       "    </tr>\n",
       "    <tr>\n",
       "      <th>3</th>\n",
       "      <td>1007_2022-11-01</td>\n",
       "      <td>1007</td>\n",
       "      <td>2022-11-01</td>\n",
       "      <td>39</td>\n",
       "    </tr>\n",
       "    <tr>\n",
       "      <th>4</th>\n",
       "      <td>1009_2022-11-01</td>\n",
       "      <td>1009</td>\n",
       "      <td>2022-11-01</td>\n",
       "      <td>39</td>\n",
       "    </tr>\n",
       "    <tr>\n",
       "      <th>...</th>\n",
       "      <td>...</td>\n",
       "      <td>...</td>\n",
       "      <td>...</td>\n",
       "      <td>...</td>\n",
       "    </tr>\n",
       "    <tr>\n",
       "      <th>25075</th>\n",
       "      <td>56037_2023-06-01</td>\n",
       "      <td>56037</td>\n",
       "      <td>2023-06-01</td>\n",
       "      <td>46</td>\n",
       "    </tr>\n",
       "    <tr>\n",
       "      <th>25076</th>\n",
       "      <td>56039_2023-06-01</td>\n",
       "      <td>56039</td>\n",
       "      <td>2023-06-01</td>\n",
       "      <td>46</td>\n",
       "    </tr>\n",
       "    <tr>\n",
       "      <th>25077</th>\n",
       "      <td>56041_2023-06-01</td>\n",
       "      <td>56041</td>\n",
       "      <td>2023-06-01</td>\n",
       "      <td>46</td>\n",
       "    </tr>\n",
       "    <tr>\n",
       "      <th>25078</th>\n",
       "      <td>56043_2023-06-01</td>\n",
       "      <td>56043</td>\n",
       "      <td>2023-06-01</td>\n",
       "      <td>46</td>\n",
       "    </tr>\n",
       "    <tr>\n",
       "      <th>25079</th>\n",
       "      <td>56045_2023-06-01</td>\n",
       "      <td>56045</td>\n",
       "      <td>2023-06-01</td>\n",
       "      <td>46</td>\n",
       "    </tr>\n",
       "  </tbody>\n",
       "</table>\n",
       "<p>25080 rows × 4 columns</p>\n",
       "</div>"
      ],
      "text/plain": [
       "                 row_id  cfips first_day_of_month  periods\n",
       "0       1001_2022-11-01   1001         2022-11-01       39\n",
       "1       1003_2022-11-01   1003         2022-11-01       39\n",
       "2       1005_2022-11-01   1005         2022-11-01       39\n",
       "3       1007_2022-11-01   1007         2022-11-01       39\n",
       "4       1009_2022-11-01   1009         2022-11-01       39\n",
       "...                 ...    ...                ...      ...\n",
       "25075  56037_2023-06-01  56037         2023-06-01       46\n",
       "25076  56039_2023-06-01  56039         2023-06-01       46\n",
       "25077  56041_2023-06-01  56041         2023-06-01       46\n",
       "25078  56043_2023-06-01  56043         2023-06-01       46\n",
       "25079  56045_2023-06-01  56045         2023-06-01       46\n",
       "\n",
       "[25080 rows x 4 columns]"
      ]
     },
     "execution_count": 10,
     "metadata": {},
     "output_type": "execute_result"
    }
   ],
   "source": [
    "## Test\n",
    "# train = train.sort_values(by=\"first_day_of_month\").reset_index(drop=True)\n",
    "# last_target = train.groupby(\"cfips\").tail(1)[[\"cfips\", \"microbusiness_density\"]]\n",
    "# last_target_dict = dict(zip(last_target['cfips'].values , last_target['microbusiness_density'].values))\n",
    "# test['microbusiness_density'] = test['cfips'].map(last_target_dict)\n",
    "# test[[\"row_id\", \"microbusiness_density\"]].to_csv(\"submission.csv\", index=False)\n",
    "test"
   ]
  },
  {
   "cell_type": "markdown",
   "metadata": {},
   "source": [
    "# Linear Regression"
   ]
  },
  {
   "cell_type": "code",
   "execution_count": 11,
   "metadata": {},
   "outputs": [],
   "source": [
    "from sklearn.linear_model import LinearRegression"
   ]
  },
  {
   "cell_type": "code",
   "execution_count": 12,
   "metadata": {},
   "outputs": [],
   "source": [
    "train = pd.read_csv('./data/train.csv')\n",
    "train[\"first_day_of_month\"] = pd.to_datetime(train[\"first_day_of_month\"])\n",
    "train = train.sort_values(['cfips','first_day_of_month']).reset_index(drop=True)\n",
    "\n",
    "\n",
    "test = pd.read_csv('./data/test.csv')\n",
    "test[\"first_day_of_month\"] = pd.to_datetime(test[\"first_day_of_month\"])\n",
    "test = test.sort_values(['cfips','first_day_of_month']).reset_index(drop=True)\n",
    "\n"
   ]
  },
  {
   "cell_type": "code",
   "execution_count": 14,
   "metadata": {},
   "outputs": [],
   "source": [
    "# DISPLAY = 1\n",
    "# # ERROR THRESHOLD AS PERCENTAGE = THRESHOLD / 78\n",
    "# THRESHOLD = 12\n",
    "\n",
    "# IDS = train.cfips.unique()\n",
    "# x_train = np.arange(39).reshape((-1,1))\n",
    "# x_test = np.arange(38,47).reshape((-1,1))\n",
    "\n",
    "# for i in range(DISPLAY):\n",
    "#     c = np.random.choice(IDS)\n",
    "#     df = train.loc[train.cfips==c]\n",
    "#     last = df.microbusiness_density.values[-1]\n",
    "\n",
    "#     # FIT LINEAR REGRESSION\n",
    "#     model = LinearRegression()\n",
    "#     model.fit(x_train, df.microbusiness_density)\n",
    "#     p = model.predict(x_train)\n",
    "\n",
    "#     # COMPUTE TRAIN ERROR\n",
    "#     err = p - df.microbusiness_density.values\n",
    "#     rng = df.microbusiness_density.max() - df.microbusiness_density.min()\n",
    "\n",
    "#     # DETERMIN IF TIME SERIES IS LINEAR OR NOT\n",
    "#     s = 0\n",
    "#     for k in range(39):\n",
    "#         e = np.abs( err[k] )\n",
    "#         r = e/(rng/2)\n",
    "#         s += r\n",
    "\n",
    "#     # INFER TEST DATA WITH LINEAR REGRESSION\n",
    "#     p2 = model.predict(x_test)\n",
    "#     shift =  last - p2[0]\n",
    "#     # if s<THRESHOLD: \n",
    "#     preds2 = p2[1:]+shift\n",
    "#     # else: \n",
    "#     preds1 = [last]*8\n",
    "\n",
    "#     # PLOT STUFF\n",
    "#     plt.figure(figsize=(20,5))\n",
    "#     plt.plot(df.first_day_of_month,df.microbusiness_density,'-o',label='train data')\n",
    "#     plt.plot(df.first_day_of_month,p,'--',label='linear regression')\n",
    "#     plt.plot(test.first_day_of_month.values[:8],preds1,'-o',label='test pred', c='r')\n",
    "#     plt.plot(test.first_day_of_month.values[:8],preds2,'--',label='test pred', c='b')\n",
    "#     pre = ''; post=''\n",
    "#     if s>THRESHOLD: \n",
    "#         pre='NO, we WILL NOT USE linear regression for\\n'\n",
    "#         post=' (We will predict last train value)'\n",
    "#     else: \n",
    "#         pre='YES, we WILL USE linear regression for\\n'\n",
    "#     plt.title(f'{pre}CFIPS {c}{post}',size=18)\n",
    "#     plt.xlabel('Date',size=16)\n",
    "#     plt.ylabel('Microbusiness Density',size=16)\n",
    "#     plt.legend()\n",
    "#     plt.show()\n",
    "\n",
    "#     plt.hist(err,bins=20,label='error')\n",
    "#     plt.plot([-rng/2,-rng/2],[0,10],'--',color='black',label='range')\n",
    "#     plt.plot([rng/2,rng/2],[0,10],'--',color='black')\n",
    "#     plt.xlim((-rng * 0.75,rng * 0.75))\n",
    "#     plt.legend()\n",
    "#     plt.title(f'Linear Regression\\nTrain Error vs. Train Range. (avg={100*s/78:2.1f}%)',size=18)\n",
    "#     plt.show()\n",
    "#     print('\\n\\n\\n\\n\\n\\n')\n",
    "    "
   ]
  },
  {
   "cell_type": "code",
   "execution_count": 16,
   "metadata": {},
   "outputs": [],
   "source": [
    "DISPLAY = 8\n",
    "# ERROR THRESHOLD AS PERCENTAGE = THRESHOLD / 78\n",
    "THRESHOLD = 8\n",
    "ACTIVE_THRESHOLD = 9_000\n",
    "\n",
    "IDS = train.cfips.unique()\n",
    "x_train = np.arange(39).reshape((-1,1))\n",
    "x_test = np.arange(38,47).reshape((-1,1))\n",
    "\n",
    "preds = np.zeros((len(IDS),8))\n",
    "last_preds = np.zeros((len(IDS),8))\n",
    "lin_trend = 0\n",
    "\n",
    "ct = 0\n",
    "\n",
    "for i,c in enumerate(IDS):\n",
    "    df = train.loc[train.cfips==c]\n",
    "    last = df.microbusiness_density.values[-1]\n",
    "    active = df.active.values[-1]\n",
    "    last_preds[i,] = [last]*8\n",
    "    \n",
    "    # FIT LINEAR REGRESSION\n",
    "    model = LinearRegression()\n",
    "    model.fit(x_train,df.microbusiness_density)\n",
    "    p = model.predict(x_train)\n",
    "    \n",
    "    # COMPUTE TRAIN ERROR\n",
    "    err = p - df.microbusiness_density.values\n",
    "    rng = df.microbusiness_density.max() - df.microbusiness_density.min()\n",
    "    \n",
    "    # DETERMIN IF TIME SERIES IS LINEAR OR NOT\n",
    "    s = 0\n",
    "    for k in range(39):\n",
    "        e = np.abs( err[k] )\n",
    "        r = e/(rng/2)\n",
    "        s += r\n",
    "    # IF S<=8 THEN AVERAGE TRAIN ERROR IS LESS THAN 10% OF RANGE OF TRAIN\n",
    "    # AND WE ASSUME THIS COUNTY HAS A LINEAR TREND\n",
    "    if (s>THRESHOLD)|(active<ACTIVE_THRESHOLD): \n",
    "        preds[i,] = [last]*8\n",
    "        continue\n",
    "        \n",
    "    # INFER TEST DATA WITH LINEAR REGRESSION\n",
    "    p2 = model.predict(x_test)\n",
    "    shift =  last - p2[0]\n",
    "    preds[i,] = p2[1:]+shift\n",
    "    \n",
    "    # COUNT STUFF\n",
    "    ct += 1\n",
    "    lin_trend += 1\n",
    "    if ct>=DISPLAY+1: continue\n",
    "        \n",
    "    # PLOT STUFF\n",
    "    plt.figure(figsize=(20,5))\n",
    "    plt.plot(df.first_day_of_month,df.microbusiness_density,'-o',label='train data')\n",
    "    plt.plot(df.first_day_of_month,p,'--',label='linear regression')\n",
    "    plt.plot(test.first_day_of_month.values[:8],preds[i,],'-o',label='test pred')\n",
    "    pre='YES, we WILL USE linear regression for\\n'\n",
    "    plt.title(f'{pre}CFIPS {c}',size=18)\n",
    "    plt.xlabel('Date',size=16)\n",
    "    plt.ylabel('Microbusiness Density',size=16)\n",
    "    plt.legend()\n",
    "    plt.show()\n",
    "    \n",
    "    plt.hist(err,bins=20,label='error')\n",
    "    plt.plot([-rng/2,-rng/2],[0,10],'--',color='black',label='range')\n",
    "    plt.plot([rng/2,rng/2],[0,10],'--',color='black')\n",
    "    plt.xlim((-rng * 0.75,rng * 0.75))\n",
    "    plt.legend()\n",
    "    plt.title(f'Train Error vs. Train Range. (avg={100*s/78:2.1f}%)',size=18)\n",
    "    plt.show()\n",
    "    print('\\n\\n\\n\\n\\n\\n')\n",
    "    \n",
    "# PRINT HOW MANY LINEAR TIME SERIES WE FOUND\n",
    "print(f'There are {lin_trend} counties with both a linear trend and large population.')"
   ]
  }
 ],
 "metadata": {
  "kernelspec": {
   "display_name": ".py39",
   "language": "python",
   "name": "python3"
  },
  "language_info": {
   "codemirror_mode": {
    "name": "ipython",
    "version": 3
   },
   "file_extension": ".py",
   "mimetype": "text/x-python",
   "name": "python",
   "nbconvert_exporter": "python",
   "pygments_lexer": "ipython3",
   "version": "3.9.12 (tags/v3.9.12:b28265d, Mar 23 2022, 23:52:46) [MSC v.1929 64 bit (AMD64)]"
  },
  "orig_nbformat": 4,
  "vscode": {
   "interpreter": {
    "hash": "ad1d413a8513d632047e434ee4038ec414e54bcf3dba008e5fb6dedaf37ce15f"
   }
  }
 },
 "nbformat": 4,
 "nbformat_minor": 2
}
