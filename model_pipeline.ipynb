{
 "cells": [
  {
   "cell_type": "code",
   "execution_count": 1,
   "metadata": {},
   "outputs": [],
   "source": [
    "import pandas as pd\n",
    "import numpy as np\n",
    "import matplotlib.pyplot as plt\n",
    "from feature_engine.outliers import Winsorizer\n",
    "from sklearn.dummy import DummyRegressor\n",
    "from sklearn.model_selection import cross_val_score\n",
    "from sklearn.preprocessing import StandardScaler,MinMaxScaler\n",
    "from feature_engine.outliers import Winsorizer\n",
    "from sklearn.compose import TransformedTargetRegressor\n",
    "from sklearn.linear_model import LinearRegression\n",
    "from sklearn.pipeline import Pipeline, FeatureUnion\n",
    "from sklearn.compose import ColumnTransformer\n",
    "from sklearn import set_config, get_config\n",
    "from sklearn.model_selection import GridSearchCV\n",
    "from sklearn.metrics import make_scorer\n",
    "from pprint import pprint\n",
    "from collections import defaultdict\n",
    "import tools\n",
    "from sklearn.ensemble import GradientBoostingRegressor\n",
    "\n",
    "set_config(transform_output=\"pandas\")\n",
    "from mlxtend.evaluate.time_series import GroupTimeSeriesSplit, plot_splits, print_cv_info, print_split_info\n",
    "\n",
    "\n",
    "pd.set_option('display.max_rows', 500)\n",
    "pd.set_option('display.max_columns', 500)\n",
    "pd.set_option('display.width', 1000)\n",
    "pd.options.display.float_format = '{:.3f}'.format\n",
    "import warnings; warnings.filterwarnings('ignore')\n"
   ]
  },
  {
   "cell_type": "code",
   "execution_count": 2,
   "metadata": {},
   "outputs": [],
   "source": [
    "old_train = pd.read_csv('./data/raw/godaddy-microbusiness-density-forecasting/train.csv')\n",
    "new_train = pd.read_csv('./data/raw/godaddy-microbusiness-density-forecasting_new/revealed_test.csv')\n",
    "\n",
    "old_test = pd.read_csv('./data/raw/godaddy-microbusiness-density-forecasting/test.csv')\n",
    "sample_submission = pd.read_csv('./data/raw/godaddy-microbusiness-density-forecasting/sample_submission.csv')\n",
    "\n",
    "train = pd.concat((old_train, new_train))\n",
    "test = old_test[~old_test['first_day_of_month'].isin(new_train['first_day_of_month'])]\n",
    "\n",
    "train['is_test'] = 0 ; test['is_test'] = 1\n",
    "\n",
    "data = pd.concat((\n",
    "        train,\n",
    "        test)\n",
    "        )\\\n",
    "    .reset_index(drop=True)\\\n",
    "    .assign(\n",
    "        cfips = lambda df: df['cfips'].astype(str).str.zfill(5),\n",
    "        date = lambda df: pd.to_datetime(df[\"first_day_of_month\"]),\n",
    "        # mdensity_t0 = lambda df: df['microbusiness_density'],\n",
    "        # active_t0 = lambda df: df['active'],\n",
    "        )\\\n",
    "    .sort_values(['cfips','date'], ascending=True)\\\n",
    "    .assign(\n",
    "    \n",
    "        state_i = lambda df: df['cfips'].apply(lambda x: x[:2]),\n",
    "        county_i = lambda df: df['cfips'].apply(lambda x: x[2:]),\n",
    "        \n",
    "        year = lambda df: df['date'].dt.year,\n",
    "        date = lambda df: df[\"date\"].dt.date,\n",
    "        # month = lambda df: df['date'].dt.month,\n",
    "\n",
    "        dcount = lambda df: df.groupby('cfips')['row_id'].cumcount(),\n",
    "        \n",
    "        # active_lag1 = lambda df: df.groupby('cfips')['active'].shift(1),\n",
    "        # active_lag2 = lambda df: df.groupby('cfips')['active_t0'].shift(2),\n",
    "        # active_lag3 = lambda df: df.groupby('cfips')['active_t0'].shift(3),\n",
    "        active_lag_1 = lambda df: df.groupby('cfips')['active'].shift(1),\n",
    "        active_lag_2 = lambda df: df.groupby('cfips')['active'].shift(2),\n",
    "        active_lag_3 = lambda df: df.groupby('cfips')['active'].shift(3),\n",
    "        active_lag_4 = lambda df: df.groupby('cfips')['active'].shift(4),\n",
    "\n",
    "        target_0 = lambda df: np.nan_to_num(df['active']/df.groupby('cfips')['active'].shift(1)-1, posinf=10),\n",
    "        target_1 = lambda df: np.nan_to_num(df['active']/df.groupby('cfips')['active'].shift(2)-1, posinf=10),\n",
    "        target_2 = lambda df: np.nan_to_num(df['active']/df.groupby('cfips')['active'].shift(3)-1, posinf=10),\n",
    "        # target_0 = lambda df: np.nan_to_num(df['active'], posinf=10),\n",
    "        # target_1 = lambda df: np.nan_to_num(df['active'], posinf=10),\n",
    "        # target_2 = lambda df: np.nan_to_num(df['active'], posinf=10),\n",
    "\n",
    "    )\\\n",
    "    .drop(['county','state'], axis='columns')\n",
    "# .sort_index(ascending=True)\n",
    "\n",
    "assert all(data.groupby('cfips')['county_i'].nunique() == 1)\n",
    "assert all(data.groupby('cfips')['state_i'].nunique() == 1)\n",
    "assert data['cfips'].nunique() == 3135 # there are 3135 county,state tuples\n",
    "assert data['dcount'].nunique() == 47 # there are 47 series for each county state tuple\n",
    "assert data.query('is_test==0')['dcount'].nunique() == 41 # there are 41 series in the train set. \n",
    "assert data.query('is_test==1')['dcount'].nunique() == 6  # there are 6 series in the test set. \n",
    "\n",
    "#The private leaderboard will include 03-2023, 04-2023, 05-2023\n",
    "#The public leaderboard includes the first month 11-2022. Probably it will be updated later as 12-2022,01-2023 and 02-2023\n",
    "#The LB is updated as 01-2023\n",
    "\n",
    "# adding census data\n",
    "data_census = []\n",
    "for year in range(2017,2022):\n",
    "    COLS = ['GEO_ID','NAME','S0101_C01_026E']\n",
    "    data_census_i = pd.read_csv(f'./data/raw/census_data_1/ACSST5Y{year}.S0101-Data.csv',usecols=COLS)\n",
    "    data_census_i = data_census_i.iloc[1:]\n",
    "    data_census_i['population'] = data_census_i['S0101_C01_026E'].astype('int')\n",
    "\n",
    "\n",
    "    data_census_i['cfips'] = data_census_i.GEO_ID.apply(lambda x: f\"{int(x.split('US')[-1]):05}\" )\n",
    "    data_census_i['year'] = year+2\n",
    "    data_census.append(data_census_i[['cfips','year','population']])\n",
    "\n",
    "data_census = pd.concat((data_census),axis='rows')\n",
    "\n",
    "data = data.merge(data_census, on=['cfips','year'], how='left')"
   ]
  },
  {
   "cell_type": "code",
   "execution_count": 3,
   "metadata": {},
   "outputs": [],
   "source": [
    "# data.query('cfips==\"46127\"')['microbusiness_density'].plot()\n",
    "# data.query('cfips==\"46127\"')['active'].plot()"
   ]
  },
  {
   "attachments": {},
   "cell_type": "markdown",
   "metadata": {},
   "source": [
    "# Sample Data"
   ]
  },
  {
   "cell_type": "code",
   "execution_count": 4,
   "metadata": {},
   "outputs": [],
   "source": [
    "# PARAMETERS\n",
    "n_SPLITS = 5 \n",
    "n_TRAIN_TRAIN_SIZE = 6\n",
    "n_TRAIN_PERIOD = n_TRAIN_TRAIN_SIZE + 3 + n_SPLITS - 1 \n",
    "\n",
    "\n",
    "TEST_DATES = list(np.sort(data.query('is_test==1')['date'].unique())[:3])\n",
    "TEST_PERIOD = list(np.sort(data.query('is_test==1')['dcount'].unique())[:3])\n",
    "\n",
    "TRAIN_PERIOD = list(np.sort(data.query('is_test==0')['dcount'].unique())[-n_TRAIN_PERIOD:])\n",
    "TRAIN_DATES = list(np.sort(data.query('is_test==0')['date'].unique())[-n_TRAIN_PERIOD:])\n",
    "\n",
    "LEAKAGE = ['microbusiness_density','active']\n",
    "TARGETS = ['target_0', 'target_1', 'target_2']\n",
    "FEATURES = ['population']\n"
   ]
  },
  {
   "cell_type": "code",
   "execution_count": 5,
   "metadata": {},
   "outputs": [],
   "source": [
    "# data[data['dcount'].isin(TEST_PERIOD)].head()\n",
    "# sample = data[data.cfips.isin(['01001'])] # sample = data[data.cfips.isin(['01001','56045'])]\n",
    "\n",
    "sample = data.copy()\n",
    "sample.loc[sample.is_test==1,TARGETS]  = np.nan\n",
    "# sample = sample.set_index(['date','cfips']).sort_index().loc[TRAIN_DATES+TEST_DATES]\n",
    "\n",
    "# sample = sample.assign(\n",
    "#     [lambda df: df.groupby('cfips')[TARGETS[0]].shift(i+1) for i in range(LAGS) ]\n",
    "#     )\n",
    "\n",
    "sample = sample.sort_values(['cfips','date'])\n",
    "\n",
    "LAGS = 4\n",
    "for i in range(1, LAGS+1):\n",
    "    lag_col = f'target_lag{i}'\n",
    "    sample[lag_col] = sample.groupby('cfips')[TARGETS[0]].shift(i)  \n",
    "\n",
    "sample = sample[sample['date'].isin(TRAIN_DATES + TEST_DATES)]\n",
    "sample = sample.sort_values('dcount')\n",
    "# sample = sample[ ['cfips','date','dcount','target_lag1','target_lag2','target_lag3'] +TARGETS + FEATURES+ LEAKAGE]\n",
    "sample_train= sample.query(\"dcount in @TRAIN_PERIOD\") ; sample_test= sample.query(\"dcount in @TEST_PERIOD\")\n",
    "train_X = sample_train.drop(TARGETS,axis='columns') ; train_y = sample_train[TARGETS]\n",
    "test_X = sample_test.drop(TARGETS,axis='columns') ; test_y = sample_test[TARGETS]\n"
   ]
  },
  {
   "cell_type": "code",
   "execution_count": 6,
   "metadata": {},
   "outputs": [],
   "source": [
    "# train_X['target_lag3'].values[:10]"
   ]
  },
  {
   "cell_type": "code",
   "execution_count": 7,
   "metadata": {},
   "outputs": [],
   "source": [
    "# display(train_X.head() , train_y.head())"
   ]
  },
  {
   "cell_type": "code",
   "execution_count": 8,
   "metadata": {},
   "outputs": [],
   "source": [
    "# from tools import BaseTransformer\n",
    "\n",
    "# class SimpleFeatureEngineering(BaseTransformer):\n",
    "#     def __init__(self, features):\n",
    "#         self.features = features\n",
    "\t    \n",
    "#     def fit(self, X, y=None):\n",
    "#         return self\n",
    "    \n",
    "#     def transform(self, X):\n",
    "#         X_transformed = X.copy()\n",
    "#         # col1 = f'ratio_{self.features[0]}_{self.features[1]}'\n",
    "#         # X_transformed[col1] = ((X_transformed[self.features[0]]/X_transformed[self.features[1]]) - 1).fillna(0)\n",
    "\n",
    "        \n",
    "#         # new_features = [col1,col2]\n",
    "#         # return X_transformed[new_features]\n",
    "#         return X_transformed[]"
   ]
  },
  {
   "cell_type": "code",
   "execution_count": 9,
   "metadata": {},
   "outputs": [],
   "source": [
    "# test_X.head()"
   ]
  },
  {
   "cell_type": "code",
   "execution_count": 10,
   "metadata": {},
   "outputs": [],
   "source": [
    "# SimpleFeatureEngineering([['target_lag1']]).transform(sample)"
   ]
  },
  {
   "cell_type": "markdown",
   "metadata": {},
   "source": [
    "# Pipelining"
   ]
  },
  {
   "cell_type": "code",
   "execution_count": 11,
   "metadata": {},
   "outputs": [],
   "source": [
    "lag=2\n",
    "list_cols_model = [[f'target_lag{lag_i+model_i+1}' for lag_i in range(lag)] for model_i in range(3)]\n",
    "\n",
    "dic_pipelines = {}\n",
    "y_test_preds  = [] \n",
    "\n",
    "y_val_preds = defaultdict(list)\n",
    "errors = defaultdict(list)\n",
    "\n",
    "\n",
    "for model_i in range(3):\n",
    "\n",
    "    train_y_i = train_y.iloc[:, model_i]\n",
    "    \n",
    "    cv_args = {\"test_size\": 1, \"n_splits\": n_SPLITS, \"train_size\": n_TRAIN_TRAIN_SIZE, 'gap_size': 0}\n",
    "    \n",
    "    cv = GroupTimeSeriesSplit(**cv_args)\n",
    "\n",
    "    # # new_features = Pipeline([('select', SimpleFeatureEngineering(features=list_cols_model[model_i]))])\n",
    "    # # print(list_cols_model[model_i])\n",
    "\n",
    "    raw_features = Pipeline([('select', tools.ColumnSelector(features=list_cols_model[model_i]))])\n",
    "    \n",
    "    merge_features_numeric = FeatureUnion([\n",
    "        # ('new_features', new_features),\n",
    "        ('raw_features', raw_features)\n",
    "    ])\n",
    "\n",
    "    final_features_numeric = Pipeline([\n",
    "                            ('merge_features',merge_features_numeric),\n",
    "                            # ('remove_outliers', Winsorizer(capping_method='iqr', tail='both',fold=1)),\n",
    "                            # ('standart_scaler', StandardScaler())\n",
    "                            ]\n",
    "                            )\n",
    "\n",
    "    \n",
    "    model = TransformedTargetRegressor(regressor=LinearRegression())\n",
    "    # model = TransformedTargetRegressor(regressor=tools.LagModel(), transformer=None)\n",
    "    \n",
    "    \n",
    "    model_pipeline = Pipeline([\n",
    "        (\"transform\", final_features_numeric),\n",
    "        (\"model\", model)\n",
    "    ])\n",
    "\n",
    "    dic_pipelines[f'pipeline_model_{model_i}'] = model_pipeline\n",
    "    \n",
    "    param_grid = {}\n",
    "    grid = GridSearchCV(dic_pipelines[f'pipeline_model_{model_i}'], scoring=make_scorer(tools.SMAPE_1, greater_is_better=False), param_grid=param_grid, cv=cv)\n",
    "    \n",
    "    grid.fit(train_X, train_y_i, groups=train_X['dcount'])\n",
    "    \n",
    "    # print(grid.cv_results_)\n",
    "    # print(grid.best_estimator_)\n",
    "    \n",
    "    # ## CHECK\n",
    "\n",
    "    check_train_period = TRAIN_PERIOD[-1-n_TRAIN_TRAIN_SIZE: -1] \n",
    "    check_validation_period = [TRAIN_PERIOD[-1]]\n",
    "\n",
    "    best_model = grid.best_estimator_\n",
    "    check_train_index = train_X.query('dcount in @check_train_period').index\n",
    "    best_model.fit(train_X.loc[check_train_index], train_y_i.loc[check_train_index])  \n",
    "    \n",
    "    val_index = train_X.query('dcount in @check_validation_period').index\n",
    "    y_val_pred =  (best_model.predict(train_X.loc[val_index])+1)*train_X.loc[val_index,'active_lag_1']\t\n",
    "    y_val_preds[f'target_{model_i}'] = y_val_pred\n",
    "    \n",
    "    errors[f'error_{model_i}'] = tools.SMAPE_1(y_true= train_X.loc[val_index,'active'], y_pred=y_val_pred)\n",
    "\n",
    "    # INFERENCE\n",
    "    final_train_period = TRAIN_PERIOD[-n_TRAIN_TRAIN_SIZE:] \n",
    "    final_train_index = train_X.query('dcount in @final_train_period').index\n",
    "    TEST_PERIOD_i = [TEST_PERIOD[model_i]]\n",
    "\n",
    "    best_model.fit(train_X.loc[final_train_index], train_y_i.loc[final_train_index])\n",
    "    y_test_preds.append(best_model.predict(test_X.query('dcount in @TEST_PERIOD_i')))\n",
    "\n",
    "# # prepare test the output\n",
    "test_X['ratio_pred'] = np.concatenate((y_test_preds))\n",
    "\n",
    "# # prepare validation for error analysis\n",
    "val_X = train_X.query('dcount in @check_validation_period')\n",
    "y_val_preds =  pd.DataFrame(y_val_preds, index=val_X.index)\n",
    "val_X = pd.concat((val_X, y_val_preds), axis=1)\n"
   ]
  },
  {
   "cell_type": "code",
   "execution_count": 12,
   "metadata": {},
   "outputs": [
    {
     "data": {
      "text/plain": [
       "defaultdict(list,\n",
       "            {'error_0': 1.8583042562020715,\n",
       "             'error_1': 1.9768251706144178,\n",
       "             'error_2': 2.1703587899037933})"
      ]
     },
     "execution_count": 12,
     "metadata": {},
     "output_type": "execute_result"
    }
   ],
   "source": [
    "errors"
   ]
  },
  {
   "cell_type": "code",
   "execution_count": 13,
   "metadata": {},
   "outputs": [],
   "source": [
    "test_X = test_X.sort_values(['cfips','first_day_of_month'])"
   ]
  },
  {
   "cell_type": "code",
   "execution_count": 14,
   "metadata": {},
   "outputs": [],
   "source": [
    "test_X['benchmark'] = test_X.groupby('cfips').first()[['active_lag_1','active_lag_1','active_lag_1']].stack().values"
   ]
  },
  {
   "cell_type": "code",
   "execution_count": 15,
   "metadata": {},
   "outputs": [],
   "source": [
    "for i,TEST_PERIOD_i in enumerate(TEST_PERIOD):\n",
    "    test_index = test_X.query('dcount == @TEST_PERIOD_i').index \n",
    "    test_X.loc[test_index,'pred'] = (test_X.loc[test_index]['ratio_pred']+1)*test_X.loc[test_index][f'active_lag_{i+1}']\n"
   ]
  },
  {
   "cell_type": "code",
   "execution_count": 16,
   "metadata": {},
   "outputs": [
    {
     "data": {
      "text/plain": [
       "[<matplotlib.lines.Line2D at 0x15903d437f0>]"
      ]
     },
     "execution_count": 16,
     "metadata": {},
     "output_type": "execute_result"
    },
    {
     "data": {
      "image/png": "[encoded data removed]",
      "text/plain": [
       "<Figure size 640x480 with 1 Axes>"
      ]
     },
     "metadata": {},
     "output_type": "display_data"
    }
   ],
   "source": [
    "random_id = np.random.choice(train_X['cfips'])\n",
    "\n",
    "plt.plot(train_X.query('cfips==@random_id')['dcount'],train_X.query('cfips==@random_id')['microbusiness_density'])\n",
    "plt.plot(test_X.query('cfips==@random_id')['dcount'],test_X.query('cfips==@random_id')['microbusiness_density'])\n",
    "# plt.plot(test_X.query('cfips==@random_id')['dcount'],test_X.query('cfips==@random_id')['benchmark'], '--')"
   ]
  },
  {
   "cell_type": "code",
   "execution_count": 725,
   "metadata": {},
   "outputs": [],
   "source": [
    "test_X['final_pred'] = test_X['pred']\n",
    "condition = test_X['population']<np.quantile(test_X['population'],q=.3)\n",
    "test_X.loc[condition,'final_pred'] = test_X.loc[condition,'benchmark']"
   ]
  },
  {
   "cell_type": "code",
   "execution_count": 726,
   "metadata": {},
   "outputs": [],
   "source": [
    "# # # Prepare submission file\n",
    "\n",
    "# microbusiness_density = 100 * active / adult_population\n",
    "# 100*data.head()['active'] / data.head()['population']\n",
    "# test_X['microbusiness_density'] = 100 * test_X['active'] / test_X['population']\n",
    "\n",
    "date_submission = '0903'\n",
    "local_score = round(errors['error_0'],2)\n",
    "model_name = 'ratio_regression_lag_1_2_with_.4_constant'\n",
    "\n",
    "df_output = test_X.assign(\n",
    "    microbusiness_density = lambda df: 100 * df['final_pred'] / df['population'],\n",
    "    row_id = lambda df: df.apply(lambda df: \"{}_{}\".format(int(df['cfips']),df['date']), axis='columns'))[['row_id','microbusiness_density']]\n",
    "\n",
    "submission = pd.concat((\n",
    "    df_output,\n",
    "    sample_submission[~sample_submission.row_id.isin(df_output.row_id)]))\n",
    "\n",
    "submission.to_csv(f\"data/{date_submission}_{model_name}_local_{local_score}.csv\",index=None)\n"
   ]
  },
  {
   "cell_type": "code",
   "execution_count": null,
   "metadata": {},
   "outputs": [],
   "source": []
  },
  {
   "cell_type": "code",
   "execution_count": null,
   "metadata": {},
   "outputs": [],
   "source": []
  },
  {
   "cell_type": "markdown",
   "metadata": {},
   "source": [
    "# ERROR ANALYSIS"
   ]
  },
  {
   "cell_type": "code",
   "execution_count": 651,
   "metadata": {},
   "outputs": [],
   "source": [
    "# val_X['target_benchmark'] = val_X['active_lag1']\n",
    "# val_X['error_0']= val_X[['active_t0','target_0']].apply(lambda x: tools.SMAPE_1(x[[0]],x[[1]]),axis=1)\n",
    "# val_X['error_benchmark']= val_X[['active_t0','target_benchmark']].apply(lambda x: tools.SMAPE_1(x[[0]],x[[1]]),axis=1)\n",
    "# val_X['error_1']= val_X[['active_t0','target_1']].apply(lambda x: tools.SMAPE_1(x[[0]],x[[1]]),axis=1)\n",
    "# val_X['error_2']= val_X[['active_t0','target_2']].apply(lambda x: tools.SMAPE_1(x[[0]],x[[1]]),axis=1)\n",
    "\n"
   ]
  },
  {
   "cell_type": "code",
   "execution_count": 44,
   "metadata": {},
   "outputs": [],
   "source": [
    "# df_errors = val_X.sort_values('error_0', ascending=False)\n",
    "# df_errors['cum_error'] = df_errors['error_0'].expanding().mean()\n",
    "# df_errors['cum_error_benchmark'] = df_errors['error_benchmark'].expanding().mean()\n",
    "# # val_X"
   ]
  },
  {
   "cell_type": "code",
   "execution_count": 46,
   "metadata": {},
   "outputs": [],
   "source": [
    "# df_errors['cum_error'].plot()\n",
    "# df_errors['cum_error_benchmark'].plot()"
   ]
  },
  {
   "cell_type": "code",
   "execution_count": 47,
   "metadata": {},
   "outputs": [],
   "source": [
    "# errors[errors['error_0']>20]\n"
   ]
  },
  {
   "cell_type": "code",
   "execution_count": null,
   "metadata": {},
   "outputs": [
    {
     "data": {
      "text/html": [
       "<div>\n",
       "<style scoped>\n",
       "    .dataframe tbody tr th:only-of-type {\n",
       "        vertical-align: middle;\n",
       "    }\n",
       "\n",
       "    .dataframe tbody tr th {\n",
       "        vertical-align: top;\n",
       "    }\n",
       "\n",
       "    .dataframe thead th {\n",
       "        text-align: right;\n",
       "    }\n",
       "</style>\n",
       "<table border=\"1\" class=\"dataframe\">\n",
       "  <thead>\n",
       "    <tr style=\"text-align: right;\">\n",
       "      <th></th>\n",
       "      <th>count</th>\n",
       "      <th>mean</th>\n",
       "      <th>std</th>\n",
       "      <th>min</th>\n",
       "      <th>25%</th>\n",
       "      <th>50%</th>\n",
       "      <th>75%</th>\n",
       "      <th>max</th>\n",
       "    </tr>\n",
       "    <tr>\n",
       "      <th>c_population</th>\n",
       "      <th></th>\n",
       "      <th></th>\n",
       "      <th></th>\n",
       "      <th></th>\n",
       "      <th></th>\n",
       "      <th></th>\n",
       "      <th></th>\n",
       "      <th></th>\n",
       "    </tr>\n",
       "  </thead>\n",
       "  <tbody>\n",
       "    <tr>\n",
       "      <th>(4.51, 6.793]</th>\n",
       "      <td>40.00</td>\n",
       "      <td>7.47</td>\n",
       "      <td>9.41</td>\n",
       "      <td>0.54</td>\n",
       "      <td>2.02</td>\n",
       "      <td>3.72</td>\n",
       "      <td>10.40</td>\n",
       "      <td>49.44</td>\n",
       "    </tr>\n",
       "    <tr>\n",
       "      <th>(6.793, 9.064]</th>\n",
       "      <td>752.00</td>\n",
       "      <td>3.08</td>\n",
       "      <td>6.74</td>\n",
       "      <td>0.00</td>\n",
       "      <td>0.77</td>\n",
       "      <td>1.47</td>\n",
       "      <td>2.99</td>\n",
       "      <td>116.12</td>\n",
       "    </tr>\n",
       "    <tr>\n",
       "      <th>(9.064, 11.335]</th>\n",
       "      <td>1782.00</td>\n",
       "      <td>1.63</td>\n",
       "      <td>6.09</td>\n",
       "      <td>0.00</td>\n",
       "      <td>0.31</td>\n",
       "      <td>0.72</td>\n",
       "      <td>1.43</td>\n",
       "      <td>121.50</td>\n",
       "    </tr>\n",
       "    <tr>\n",
       "      <th>(11.335, 13.606]</th>\n",
       "      <td>517.00</td>\n",
       "      <td>0.78</td>\n",
       "      <td>2.08</td>\n",
       "      <td>0.00</td>\n",
       "      <td>0.18</td>\n",
       "      <td>0.39</td>\n",
       "      <td>0.69</td>\n",
       "      <td>37.89</td>\n",
       "    </tr>\n",
       "    <tr>\n",
       "      <th>(13.606, 15.878]</th>\n",
       "      <td>44.00</td>\n",
       "      <td>0.50</td>\n",
       "      <td>0.48</td>\n",
       "      <td>0.02</td>\n",
       "      <td>0.18</td>\n",
       "      <td>0.39</td>\n",
       "      <td>0.60</td>\n",
       "      <td>2.07</td>\n",
       "    </tr>\n",
       "  </tbody>\n",
       "</table>\n",
       "</div>"
      ],
      "text/plain": [
       "                   count  mean  std  min  25%  50%   75%    max\n",
       "c_population                                                   \n",
       "(4.51, 6.793]      40.00  7.47 9.41 0.54 2.02 3.72 10.40  49.44\n",
       "(6.793, 9.064]    752.00  3.08 6.74 0.00 0.77 1.47  2.99 116.12\n",
       "(9.064, 11.335]  1782.00  1.63 6.09 0.00 0.31 0.72  1.43 121.50\n",
       "(11.335, 13.606]  517.00  0.78 2.08 0.00 0.18 0.39  0.69  37.89\n",
       "(13.606, 15.878]   44.00  0.50 0.48 0.02 0.18 0.39  0.60   2.07"
      ]
     },
     "execution_count": 153,
     "metadata": {},
     "output_type": "execute_result"
    }
   ],
   "source": [
    "# errors['c_population']=  pd.cut(np.log1p(errors['population']),5)\n",
    "# errors['c_population'].value_counts()\n",
    "# errors.groupby(['c_population'])['error_0'].describe()"
   ]
  },
  {
   "cell_type": "code",
   "execution_count": null,
   "metadata": {},
   "outputs": [],
   "source": [
    "# errors = errors[errors['error_0']>1]"
   ]
  },
  {
   "cell_type": "code",
   "execution_count": 155,
   "metadata": {},
   "outputs": [],
   "source": [
    "# plt.scatter( np.log1p(errors['population']), np.log1p(errors['error_0']))"
   ]
  }
 ],
 "metadata": {
  "kernelspec": {
   "display_name": ".py39",
   "language": "python",
   "name": "python3"
  },
  "language_info": {
   "codemirror_mode": {
    "name": "ipython",
    "version": 3
   },
   "file_extension": ".py",
   "mimetype": "text/x-python",
   "name": "python",
   "nbconvert_exporter": "python",
   "pygments_lexer": "ipython3",
   "version": "3.9.12"
  },
  "orig_nbformat": 4,
  "vscode": {
   "interpreter": {
    "hash": "ad1d413a8513d632047e434ee4038ec414e54bcf3dba008e5fb6dedaf37ce15f"
   }
  }
 },
 "nbformat": 4,
 "nbformat_minor": 2
}
