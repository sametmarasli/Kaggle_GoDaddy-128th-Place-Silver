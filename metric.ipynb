{
 "cells": [
  {
   "cell_type": "code",
   "execution_count": 4,
   "metadata": {},
   "outputs": [],
   "source": [
    "import pandas as pd\n",
    "import numpy as np\n",
    "import matplotlib.pyplot as plt"
   ]
  },
  {
   "cell_type": "markdown",
   "metadata": {},
   "source": [
    "# SMAPE"
   ]
  },
  {
   "cell_type": "code",
   "execution_count": 5,
   "metadata": {},
   "outputs": [],
   "source": [
    "def SMAPE_1 (y_true, y_pred):\n",
    "    \"\"\"\n",
    "    Symmetric Mean Absolute Percentage Error (SMAPE)\n",
    "    \"\"\"\n",
    "    y_true = np.array(y_true)\n",
    "    denominator = (y_true + np.abs(y_pred)) / 200.0\n",
    "    diff = np.abs(y_true - y_pred) / denominator\n",
    "    diff[denominator == 0] = 0.0\n",
    "    return np.mean(diff)\n",
    "\n",
    "\n",
    "def MAPE(y_true, y_pred):\n",
    "    \"\"\"\n",
    "    Mean Absolute Percentage Error (MAPE)\n",
    "    \"\"\"\n",
    "    denominator = (np.abs(y_true) ) / 100.0\n",
    "    diff = np.abs(y_true - y_pred) / denominator\n",
    "    diff[denominator == 0] = 0.0\n",
    "    return np.mean(diff)\n",
    "\n",
    "def SMAPE_2 (y_true, y_pred):\n",
    "    \"\"\"\n",
    "    Symmetric Mean Absolute Percentage Error (SMAPE)\n",
    "    \"\"\"\n",
    "    y_true = np.array(y_true)\n",
    "    y_pred = np.array(y_pred)\n",
    "    return 100/len(y_true) * np.sum(2 * np.abs(y_pred - y_true) / (np.abs(y_true) + np.abs(y_pred)))\n",
    "\n",
    "\n",
    "import math\n",
    "from numba import jit\n",
    "\n",
    "@jit\n",
    "def SMAPE_FAST(y_true, y_pred):\n",
    "    out = 0\n",
    "    for i in range(y_true.shape[0]):\n",
    "        a = y_true[i]\n",
    "        b = y_pred[i]\n",
    "        c = a+b\n",
    "        if c == 0: continue\n",
    "        out += math.fabs(a - b) / c\n",
    "    out *= (200.0 / y_true.shape[0])\n",
    "    return out"
   ]
  },
  {
   "cell_type": "code",
   "execution_count": 28,
   "metadata": {},
   "outputs": [
    {
     "name": "stdout",
     "output_type": "stream",
     "text": [
      "CPU times: total: 0 ns\n",
      "Wall time: 0 ns\n",
      "CPU times: total: 0 ns\n",
      "Wall time: 0 ns\n"
     ]
    },
    {
     "data": {
      "text/plain": [
       "76.24602465527364"
      ]
     },
     "execution_count": 28,
     "metadata": {},
     "output_type": "execute_result"
    }
   ],
   "source": [
    "\n",
    "# plt.plot(\n",
    "#     range(100,400),\n",
    "#     [SMAPE_FAST(np.array([x]),np.array([200])) for x in range(100,400)]\n",
    "#     , label = 'SMAPE'\n",
    "# )\n",
    "\n",
    "K = int(1e4)\n",
    "%time SMAPE_FAST(np.random.rand(K),np.random.rand(K))\n",
    "%time SMAPE_1(np.random.rand(K),np.random.rand(K))\n"
   ]
  },
  {
   "cell_type": "code",
   "execution_count": null,
   "metadata": {},
   "outputs": [],
   "source": [
    "\n",
    "## \n",
    "# NOTE\n",
    "# some transormers to make mse and smape minimization problem similar\n",
    "\n",
    "# from sklearn.ensemble import GradientBoostingRegressor\n",
    "# from sklearn.linear_model import HuberRegressor, Lasso, Ridge\n",
    "# from sklearn.tree import DecisionTreeRegressor\n",
    "\n",
    "# def smape(Y_predict, Y_test):\n",
    "#     result = np.linalg.norm(Y_predict - Y_test, axis = 1)\n",
    "#     result = np.abs(result)\n",
    "#     denom = np.linalg.norm(Y_predict, axis = 1)\n",
    "#     denom += np.linalg.norm(Y_test, axis = 1)\n",
    "#     result /= denom\n",
    "#     result *= 100 * 2\n",
    "#     result = np.mean(result)\n",
    "#     return result\n",
    "# epsilon = 1e-6\n",
    "# param_search = np.arange(10, 200, 20)\n",
    "\n",
    "# scores = []\n",
    "# for i in param_search:\n",
    "#     print(i)\n",
    "\n",
    "#     # definition of ztransformation.\n",
    "\n",
    "#     def ztransform1(Y, param=i):\n",
    "#         return 1 / (param + Y)\n",
    "\n",
    "#     # inverse transformation, Y = inverseZ(Z)\n",
    "\n",
    "#     def inverseZ1(Z, param=i):\n",
    "#         return -param + 1 / Z\n",
    "    \n",
    "    \n",
    "#     model = TransformedTargetRegressor(GradientBoostingRegressor(loss='squared_error', n_estimators=50,max_depth=10),func= ztransform1, inverse_func=inverseZ1)\n",
    "\n",
    "#     model.fit( train_X.loc['2022-05-01':'2022-09-01',['mdensity_lag1','mdensity_lag2','mdensity_lag3']], train_y.loc['2022-05-01':'2022-09-01',['target_0']]) \n",
    "        \n",
    "#     print(SMAPE_1(epsilon+model.predict(train_X.loc['2022-02-01':'2022-09-01',['mdensity_lag1','mdensity_lag2','mdensity_lag3']]),train_y.loc['2022-02-01':'2022-09-01',['target_0']].values))\n",
    "#     print(SMAPE_1(epsilon+model.predict(train_X.loc['2022-10-01',['mdensity_lag1','mdensity_lag2','mdensity_lag3']]),train_y.loc['2022-10-01',['target_0']].values))\n",
    "    \n",
    "# # 160\n",
    "# # 1.3528178494715637\n",
    "# # 1.4203927419328115\n",
    "# # 190\n",
    "# # 1.3527584337361627\n",
    "# # 1.4161016190620148\n"
   ]
  }
 ],
 "metadata": {
  "kernelspec": {
   "display_name": ".py39",
   "language": "python",
   "name": "python3"
  },
  "language_info": {
   "codemirror_mode": {
    "name": "ipython",
    "version": 3
   },
   "file_extension": ".py",
   "mimetype": "text/x-python",
   "name": "python",
   "nbconvert_exporter": "python",
   "pygments_lexer": "ipython3",
   "version": "3.9.15"
  },
  "orig_nbformat": 4,
  "vscode": {
   "interpreter": {
    "hash": "ad1d413a8513d632047e434ee4038ec414e54bcf3dba008e5fb6dedaf37ce15f"
   }
  }
 },
 "nbformat": 4,
 "nbformat_minor": 2
}
