{
 "cells": [
  {
   "cell_type": "markdown",
   "id": "acb275a0",
   "metadata": {
    "papermill": {
     "duration": 0.008099,
     "end_time": "2023-02-21T07:39:54.575340",
     "exception": false,
     "start_time": "2023-02-21T07:39:54.567241",
     "status": "completed"
    },
    "tags": []
   },
   "source": [
    "# New Last Value Baseline on New LB\n",
    "In this notebook we create and submit new \"last value\" baseline to the new public LB. The old \"last value\" baseline was using October 2022 data to predict old November 2022 public LB and achieved SMAPE = 1.093. Note that previously both October 2022 and November 2022 were in the same year 2022 and both used the same census data file. But now our last value of December 2022 and prediction of January 2023 are two different years using two different census data files. Therefore we will adjust last value based on changes in census data. Without adjustment LB=3.2776, and with adjustment is is much better! Discussion about this notebook is [here][2]\n",
    "\n",
    "# Public LB is now January 2023 \n",
    "On Monday Feb 20th, Kaggle released additional train data in the file `revealed_test.csv`. This file contains data for months November 2022 and December 2022. Discussion about this new file is [here][1]. Kaggle also updated the Public LB to score January 2023 (and not November 2022 anymore). Everyone's old public LB scores are not being updated, but from now on when we submit to public LB, our submission.csv will be scored against January 2023.\n",
    "\n",
    "# Private LB is March, April, May 2023\n",
    "The private LB will be the 3 months of March, April, May 2023. Therefore our models need to use data from August 2019 thru December 2022 inclusive 41 months to predict the future 3 months of March, April, May 2023. Discussion about this [here][3]\n",
    "\n",
    "[1]: https://www.kaggle.com/competitions/godaddy-microbusiness-density-forecasting/discussion/389138\n",
    "[2]: https://www.kaggle.com/competitions/godaddy-microbusiness-density-forecasting/discussion/389215\n",
    "[3]: https://www.kaggle.com/competitions/godaddy-microbusiness-density-forecasting/discussion/388154#2148695"
   ]
  },
  {
   "cell_type": "markdown",
   "id": "896f070b",
   "metadata": {
    "papermill": {
     "duration": 0.003792,
     "end_time": "2023-02-21T07:39:54.583463",
     "exception": false,
     "start_time": "2023-02-21T07:39:54.579671",
     "status": "completed"
    },
    "tags": []
   },
   "source": [
    "# Load New Train Data"
   ]
  },
  {
   "cell_type": "code",
   "execution_count": 1,
   "id": "9fa534c7",
   "metadata": {
    "execution": {
     "iopub.execute_input": "2023-02-21T07:39:54.593538Z",
     "iopub.status.busy": "2023-02-21T07:39:54.593048Z",
     "iopub.status.idle": "2023-02-21T07:39:54.657350Z",
     "shell.execute_reply": "2023-02-21T07:39:54.655713Z"
    },
    "papermill": {
     "duration": 0.075839,
     "end_time": "2023-02-21T07:39:54.663200",
     "exception": false,
     "start_time": "2023-02-21T07:39:54.587361",
     "status": "completed"
    },
    "tags": []
   },
   "outputs": [
    {
     "name": "stdout",
     "output_type": "stream",
     "text": [
      "New data shape: (6270, 7)\n"
     ]
    },
    {
     "data": {
      "text/html": [
       "<div>\n",
       "<style scoped>\n",
       "    .dataframe tbody tr th:only-of-type {\n",
       "        vertical-align: middle;\n",
       "    }\n",
       "\n",
       "    .dataframe tbody tr th {\n",
       "        vertical-align: top;\n",
       "    }\n",
       "\n",
       "    .dataframe thead th {\n",
       "        text-align: right;\n",
       "    }\n",
       "</style>\n",
       "<table border=\"1\" class=\"dataframe\">\n",
       "  <thead>\n",
       "    <tr style=\"text-align: right;\">\n",
       "      <th></th>\n",
       "      <th>row_id</th>\n",
       "      <th>cfips</th>\n",
       "      <th>county</th>\n",
       "      <th>state</th>\n",
       "      <th>first_day_of_month</th>\n",
       "      <th>microbusiness_density</th>\n",
       "      <th>active</th>\n",
       "    </tr>\n",
       "  </thead>\n",
       "  <tbody>\n",
       "    <tr>\n",
       "      <th>0</th>\n",
       "      <td>1001_2022-11-01</td>\n",
       "      <td>1001</td>\n",
       "      <td>Autauga County</td>\n",
       "      <td>Alabama</td>\n",
       "      <td>2022-11-01</td>\n",
       "      <td>3.442677</td>\n",
       "      <td>1463</td>\n",
       "    </tr>\n",
       "    <tr>\n",
       "      <th>1</th>\n",
       "      <td>1001_2022-12-01</td>\n",
       "      <td>1001</td>\n",
       "      <td>Autauga County</td>\n",
       "      <td>Alabama</td>\n",
       "      <td>2022-12-01</td>\n",
       "      <td>3.470915</td>\n",
       "      <td>1475</td>\n",
       "    </tr>\n",
       "    <tr>\n",
       "      <th>2</th>\n",
       "      <td>1003_2022-11-01</td>\n",
       "      <td>1003</td>\n",
       "      <td>Baldwin County</td>\n",
       "      <td>Alabama</td>\n",
       "      <td>2022-11-01</td>\n",
       "      <td>8.257636</td>\n",
       "      <td>14145</td>\n",
       "    </tr>\n",
       "    <tr>\n",
       "      <th>3</th>\n",
       "      <td>1003_2022-12-01</td>\n",
       "      <td>1003</td>\n",
       "      <td>Baldwin County</td>\n",
       "      <td>Alabama</td>\n",
       "      <td>2022-12-01</td>\n",
       "      <td>8.250630</td>\n",
       "      <td>14133</td>\n",
       "    </tr>\n",
       "    <tr>\n",
       "      <th>4</th>\n",
       "      <td>1005_2022-11-01</td>\n",
       "      <td>1005</td>\n",
       "      <td>Barbour County</td>\n",
       "      <td>Alabama</td>\n",
       "      <td>2022-11-01</td>\n",
       "      <td>1.247223</td>\n",
       "      <td>247</td>\n",
       "    </tr>\n",
       "  </tbody>\n",
       "</table>\n",
       "</div>"
      ],
      "text/plain": [
       "            row_id  cfips          county    state first_day_of_month  \\\n",
       "0  1001_2022-11-01   1001  Autauga County  Alabama         2022-11-01   \n",
       "1  1001_2022-12-01   1001  Autauga County  Alabama         2022-12-01   \n",
       "2  1003_2022-11-01   1003  Baldwin County  Alabama         2022-11-01   \n",
       "3  1003_2022-12-01   1003  Baldwin County  Alabama         2022-12-01   \n",
       "4  1005_2022-11-01   1005  Barbour County  Alabama         2022-11-01   \n",
       "\n",
       "   microbusiness_density  active  \n",
       "0               3.442677    1463  \n",
       "1               3.470915    1475  \n",
       "2               8.257636   14145  \n",
       "3               8.250630   14133  \n",
       "4               1.247223     247  "
      ]
     },
     "execution_count": 1,
     "metadata": {},
     "output_type": "execute_result"
    }
   ],
   "source": [
    "import pandas as pd\n",
    "\n",
    "new_data = pd.read_csv('/kaggle/input/godaddy-microbusiness-density-forecasting/revealed_test.csv')\n",
    "print('New data shape:', new_data.shape )\n",
    "new_data.head()"
   ]
  },
  {
   "cell_type": "markdown",
   "id": "07cc12c2",
   "metadata": {
    "papermill": {
     "duration": 0.004325,
     "end_time": "2023-02-21T07:39:54.672828",
     "exception": false,
     "start_time": "2023-02-21T07:39:54.668503",
     "status": "completed"
    },
    "tags": []
   },
   "source": [
    "# New Last Value Prediction\n",
    "We will generate a new \"last value\" prediction from each county's December 2022 microbusiness density."
   ]
  },
  {
   "cell_type": "code",
   "execution_count": 2,
   "id": "9564bc4c",
   "metadata": {
    "execution": {
     "iopub.execute_input": "2023-02-21T07:39:54.683724Z",
     "iopub.status.busy": "2023-02-21T07:39:54.683304Z",
     "iopub.status.idle": "2023-02-21T07:39:54.704777Z",
     "shell.execute_reply": "2023-02-21T07:39:54.703195Z"
    },
    "papermill": {
     "duration": 0.030395,
     "end_time": "2023-02-21T07:39:54.707662",
     "exception": false,
     "start_time": "2023-02-21T07:39:54.677267",
     "status": "completed"
    },
    "tags": []
   },
   "outputs": [
    {
     "name": "stdout",
     "output_type": "stream",
     "text": [
      "Generating predictions using ['2022-12-01'] data...\n"
     ]
    }
   ],
   "source": [
    "new_data = new_data.drop_duplicates('cfips',keep='last')\n",
    "print('Generating predictions using',new_data.first_day_of_month.unique(),'data...')\n",
    "pred = new_data.set_index('cfips').microbusiness_density.to_dict()"
   ]
  },
  {
   "cell_type": "markdown",
   "id": "4b532cb1",
   "metadata": {
    "papermill": {
     "duration": 0.004187,
     "end_time": "2023-02-21T07:39:54.716386",
     "exception": false,
     "start_time": "2023-02-21T07:39:54.712199",
     "status": "completed"
    },
    "tags": []
   },
   "source": [
    "# Create Submission.CSV\n",
    "We will use each county's December 2022 microbusiness density as a prediction for their January 2023 (public LB) and March, April, May 2023 (private LB) forecast. The submission file also contains forecast for November 2022, December 2022, February 2023, and June 2023, but these 4 months' values are ignored by Kaggle."
   ]
  },
  {
   "cell_type": "code",
   "execution_count": 3,
   "id": "8b8590b3",
   "metadata": {
    "execution": {
     "iopub.execute_input": "2023-02-21T07:39:54.727420Z",
     "iopub.status.busy": "2023-02-21T07:39:54.727014Z",
     "iopub.status.idle": "2023-02-21T07:39:54.795739Z",
     "shell.execute_reply": "2023-02-21T07:39:54.794256Z"
    },
    "papermill": {
     "duration": 0.078104,
     "end_time": "2023-02-21T07:39:54.798886",
     "exception": false,
     "start_time": "2023-02-21T07:39:54.720782",
     "status": "completed"
    },
    "tags": []
   },
   "outputs": [
    {
     "name": "stdout",
     "output_type": "stream",
     "text": [
      "Sample submission shape: (25080, 2)\n"
     ]
    },
    {
     "data": {
      "text/html": [
       "<div>\n",
       "<style scoped>\n",
       "    .dataframe tbody tr th:only-of-type {\n",
       "        vertical-align: middle;\n",
       "    }\n",
       "\n",
       "    .dataframe tbody tr th {\n",
       "        vertical-align: top;\n",
       "    }\n",
       "\n",
       "    .dataframe thead th {\n",
       "        text-align: right;\n",
       "    }\n",
       "</style>\n",
       "<table border=\"1\" class=\"dataframe\">\n",
       "  <thead>\n",
       "    <tr style=\"text-align: right;\">\n",
       "      <th></th>\n",
       "      <th>row_id</th>\n",
       "      <th>microbusiness_density</th>\n",
       "    </tr>\n",
       "  </thead>\n",
       "  <tbody>\n",
       "    <tr>\n",
       "      <th>0</th>\n",
       "      <td>1001_2022-11-01</td>\n",
       "      <td>3.817671</td>\n",
       "    </tr>\n",
       "    <tr>\n",
       "      <th>1</th>\n",
       "      <td>1003_2022-11-01</td>\n",
       "      <td>3.817671</td>\n",
       "    </tr>\n",
       "    <tr>\n",
       "      <th>2</th>\n",
       "      <td>1005_2022-11-01</td>\n",
       "      <td>3.817671</td>\n",
       "    </tr>\n",
       "    <tr>\n",
       "      <th>3</th>\n",
       "      <td>1007_2022-11-01</td>\n",
       "      <td>3.817671</td>\n",
       "    </tr>\n",
       "    <tr>\n",
       "      <th>4</th>\n",
       "      <td>1009_2022-11-01</td>\n",
       "      <td>3.817671</td>\n",
       "    </tr>\n",
       "  </tbody>\n",
       "</table>\n",
       "</div>"
      ],
      "text/plain": [
       "            row_id  microbusiness_density\n",
       "0  1001_2022-11-01               3.817671\n",
       "1  1003_2022-11-01               3.817671\n",
       "2  1005_2022-11-01               3.817671\n",
       "3  1007_2022-11-01               3.817671\n",
       "4  1009_2022-11-01               3.817671"
      ]
     },
     "execution_count": 3,
     "metadata": {},
     "output_type": "execute_result"
    }
   ],
   "source": [
    "sub = pd.read_csv('/kaggle/input/godaddy-microbusiness-density-forecasting/sample_submission.csv')\n",
    "print('Sample submission shape:', sub.shape )\n",
    "sub.head()"
   ]
  },
  {
   "cell_type": "code",
   "execution_count": 4,
   "id": "2f50823a",
   "metadata": {
    "execution": {
     "iopub.execute_input": "2023-02-21T07:39:54.810363Z",
     "iopub.status.busy": "2023-02-21T07:39:54.809969Z",
     "iopub.status.idle": "2023-02-21T07:39:54.848434Z",
     "shell.execute_reply": "2023-02-21T07:39:54.847231Z"
    },
    "papermill": {
     "duration": 0.047138,
     "end_time": "2023-02-21T07:39:54.850952",
     "exception": false,
     "start_time": "2023-02-21T07:39:54.803814",
     "status": "completed"
    },
    "tags": []
   },
   "outputs": [
    {
     "data": {
      "text/html": [
       "<div>\n",
       "<style scoped>\n",
       "    .dataframe tbody tr th:only-of-type {\n",
       "        vertical-align: middle;\n",
       "    }\n",
       "\n",
       "    .dataframe tbody tr th {\n",
       "        vertical-align: top;\n",
       "    }\n",
       "\n",
       "    .dataframe thead th {\n",
       "        text-align: right;\n",
       "    }\n",
       "</style>\n",
       "<table border=\"1\" class=\"dataframe\">\n",
       "  <thead>\n",
       "    <tr style=\"text-align: right;\">\n",
       "      <th></th>\n",
       "      <th>row_id</th>\n",
       "      <th>microbusiness_density</th>\n",
       "      <th>cfips</th>\n",
       "    </tr>\n",
       "  </thead>\n",
       "  <tbody>\n",
       "    <tr>\n",
       "      <th>0</th>\n",
       "      <td>1001_2022-11-01</td>\n",
       "      <td>3.470915</td>\n",
       "      <td>1001</td>\n",
       "    </tr>\n",
       "    <tr>\n",
       "      <th>1</th>\n",
       "      <td>1003_2022-11-01</td>\n",
       "      <td>8.250630</td>\n",
       "      <td>1003</td>\n",
       "    </tr>\n",
       "    <tr>\n",
       "      <th>2</th>\n",
       "      <td>1005_2022-11-01</td>\n",
       "      <td>1.252272</td>\n",
       "      <td>1005</td>\n",
       "    </tr>\n",
       "    <tr>\n",
       "      <th>3</th>\n",
       "      <td>1007_2022-11-01</td>\n",
       "      <td>1.287240</td>\n",
       "      <td>1007</td>\n",
       "    </tr>\n",
       "    <tr>\n",
       "      <th>4</th>\n",
       "      <td>1009_2022-11-01</td>\n",
       "      <td>1.852060</td>\n",
       "      <td>1009</td>\n",
       "    </tr>\n",
       "  </tbody>\n",
       "</table>\n",
       "</div>"
      ],
      "text/plain": [
       "            row_id  microbusiness_density  cfips\n",
       "0  1001_2022-11-01               3.470915   1001\n",
       "1  1003_2022-11-01               8.250630   1003\n",
       "2  1005_2022-11-01               1.252272   1005\n",
       "3  1007_2022-11-01               1.287240   1007\n",
       "4  1009_2022-11-01               1.852060   1009"
      ]
     },
     "execution_count": 4,
     "metadata": {},
     "output_type": "execute_result"
    }
   ],
   "source": [
    "sub['cfips'] = sub.row_id.apply(lambda x: int(x.split('_')[0]))\n",
    "sub.microbusiness_density = sub.cfips.map(pred)\n",
    "#sub = sub.drop('cfips',axis=1)\n",
    "#sub.to_csv('submission.csv',index=False)\n",
    "sub.head()"
   ]
  },
  {
   "cell_type": "markdown",
   "id": "387cc12d",
   "metadata": {
    "papermill": {
     "duration": 0.00461,
     "end_time": "2023-02-21T07:39:54.860484",
     "exception": false,
     "start_time": "2023-02-21T07:39:54.855874",
     "status": "completed"
    },
    "tags": []
   },
   "source": [
    "# Adjust Microbusiness Density using New Census Data\n",
    "The formula for microbusiness density is `microbusiness_density = 100 * active / adult_population`. Therefore even if active microbusinesses stay the same, if the adult population changes then microbusiness density will change too. All microbusiness density values in the year 2022 use the same census adult population file from 2020. But the microbusiness density values in the year 2023 use a different census adult population from 2021. You can find the data online at ` https://data.census.gov/table?q=S0101+by+county&tid=ACSST5Y2021.S0101`. I downloaded the files from 2020 and 2021 and uploaded them to a Kaggle dataset [here][1]. Don't forget to upvote the dataset if you find it helpful :-) The host has confirmed that these are the files they use in discussion [here][2]\n",
    "\n",
    "We will now adjust the last value baseline to account for the ratio change in adult population from 2020 to 2021 census below. Without adjustment, our \"last value\" baseline achieves public LB SMAPE = 3.2776. Let's see how much the public LB improves after adjustment. According to the meta notes in file `/kaggle/input/census-data-for-godaddy/ACSST5Y2020.S0101-Column-Metadata.csv` the adult population 18 years and older is column `S0101_C01_026E`. Also the host confirms [here][2] that this is the column they use.\n",
    "\n",
    "[1]: https://www.kaggle.com/datasets/cdeotte/census-data-for-godaddy\n",
    "[2]: https://www.kaggle.com/competitions/godaddy-microbusiness-density-forecasting/discussion/372604#2078710"
   ]
  },
  {
   "cell_type": "markdown",
   "id": "7a3dfd61",
   "metadata": {
    "papermill": {
     "duration": 0.004682,
     "end_time": "2023-02-21T07:39:54.869994",
     "exception": false,
     "start_time": "2023-02-21T07:39:54.865312",
     "status": "completed"
    },
    "tags": []
   },
   "source": [
    "# Load Census 2020 and 2021"
   ]
  },
  {
   "cell_type": "code",
   "execution_count": 5,
   "id": "8d26a254",
   "metadata": {
    "execution": {
     "iopub.execute_input": "2023-02-21T07:39:54.882113Z",
     "iopub.status.busy": "2023-02-21T07:39:54.881017Z",
     "iopub.status.idle": "2023-02-21T07:39:55.452210Z",
     "shell.execute_reply": "2023-02-21T07:39:55.450962Z"
    },
    "papermill": {
     "duration": 0.580674,
     "end_time": "2023-02-21T07:39:55.455464",
     "exception": false,
     "start_time": "2023-02-21T07:39:54.874790",
     "status": "completed"
    },
    "tags": []
   },
   "outputs": [
    {
     "name": "stdout",
     "output_type": "stream",
     "text": [
      "(3221, 3)\n"
     ]
    },
    {
     "name": "stderr",
     "output_type": "stream",
     "text": [
      "/opt/conda/lib/python3.7/site-packages/IPython/core/interactiveshell.py:3552: DtypeWarning: Columns (102) have mixed types.Specify dtype option on import or set low_memory=False.\n",
      "  exec(code_obj, self.user_global_ns, self.user_ns)\n"
     ]
    },
    {
     "data": {
      "text/html": [
       "<div>\n",
       "<style scoped>\n",
       "    .dataframe tbody tr th:only-of-type {\n",
       "        vertical-align: middle;\n",
       "    }\n",
       "\n",
       "    .dataframe tbody tr th {\n",
       "        vertical-align: top;\n",
       "    }\n",
       "\n",
       "    .dataframe thead th {\n",
       "        text-align: right;\n",
       "    }\n",
       "</style>\n",
       "<table border=\"1\" class=\"dataframe\">\n",
       "  <thead>\n",
       "    <tr style=\"text-align: right;\">\n",
       "      <th></th>\n",
       "      <th>GEO_ID</th>\n",
       "      <th>NAME</th>\n",
       "      <th>S0101_C01_026E</th>\n",
       "    </tr>\n",
       "  </thead>\n",
       "  <tbody>\n",
       "    <tr>\n",
       "      <th>1</th>\n",
       "      <td>0500000US01001</td>\n",
       "      <td>Autauga County, Alabama</td>\n",
       "      <td>42496</td>\n",
       "    </tr>\n",
       "    <tr>\n",
       "      <th>2</th>\n",
       "      <td>0500000US01003</td>\n",
       "      <td>Baldwin County, Alabama</td>\n",
       "      <td>171296</td>\n",
       "    </tr>\n",
       "    <tr>\n",
       "      <th>3</th>\n",
       "      <td>0500000US01005</td>\n",
       "      <td>Barbour County, Alabama</td>\n",
       "      <td>19804</td>\n",
       "    </tr>\n",
       "    <tr>\n",
       "      <th>4</th>\n",
       "      <td>0500000US01007</td>\n",
       "      <td>Bibb County, Alabama</td>\n",
       "      <td>17790</td>\n",
       "    </tr>\n",
       "    <tr>\n",
       "      <th>5</th>\n",
       "      <td>0500000US01009</td>\n",
       "      <td>Blount County, Alabama</td>\n",
       "      <td>44383</td>\n",
       "    </tr>\n",
       "  </tbody>\n",
       "</table>\n",
       "</div>"
      ],
      "text/plain": [
       "           GEO_ID                     NAME  S0101_C01_026E\n",
       "1  0500000US01001  Autauga County, Alabama           42496\n",
       "2  0500000US01003  Baldwin County, Alabama          171296\n",
       "3  0500000US01005  Barbour County, Alabama           19804\n",
       "4  0500000US01007     Bibb County, Alabama           17790\n",
       "5  0500000US01009   Blount County, Alabama           44383"
      ]
     },
     "execution_count": 5,
     "metadata": {},
     "output_type": "execute_result"
    }
   ],
   "source": [
    "COLS = ['GEO_ID','NAME','S0101_C01_026E']\n",
    "df2020 = pd.read_csv('/kaggle/input/census-data-for-godaddy/ACSST5Y2020.S0101-Data.csv',usecols=COLS)\n",
    "df2020 = df2020.iloc[1:]\n",
    "df2020['S0101_C01_026E'] = df2020['S0101_C01_026E'].astype('int')\n",
    "print( df2020.shape )\n",
    "df2020.head()"
   ]
  },
  {
   "cell_type": "code",
   "execution_count": 6,
   "id": "28d855eb",
   "metadata": {
    "execution": {
     "iopub.execute_input": "2023-02-21T07:39:55.468218Z",
     "iopub.status.busy": "2023-02-21T07:39:55.467223Z",
     "iopub.status.idle": "2023-02-21T07:39:55.983874Z",
     "shell.execute_reply": "2023-02-21T07:39:55.982284Z"
    },
    "papermill": {
     "duration": 0.525839,
     "end_time": "2023-02-21T07:39:55.986575",
     "exception": false,
     "start_time": "2023-02-21T07:39:55.460736",
     "status": "completed"
    },
    "tags": []
   },
   "outputs": [
    {
     "name": "stdout",
     "output_type": "stream",
     "text": [
      "(3221, 3)\n"
     ]
    },
    {
     "name": "stderr",
     "output_type": "stream",
     "text": [
      "/opt/conda/lib/python3.7/site-packages/IPython/core/interactiveshell.py:3552: DtypeWarning: Columns (102) have mixed types.Specify dtype option on import or set low_memory=False.\n",
      "  exec(code_obj, self.user_global_ns, self.user_ns)\n"
     ]
    },
    {
     "data": {
      "text/html": [
       "<div>\n",
       "<style scoped>\n",
       "    .dataframe tbody tr th:only-of-type {\n",
       "        vertical-align: middle;\n",
       "    }\n",
       "\n",
       "    .dataframe tbody tr th {\n",
       "        vertical-align: top;\n",
       "    }\n",
       "\n",
       "    .dataframe thead th {\n",
       "        text-align: right;\n",
       "    }\n",
       "</style>\n",
       "<table border=\"1\" class=\"dataframe\">\n",
       "  <thead>\n",
       "    <tr style=\"text-align: right;\">\n",
       "      <th></th>\n",
       "      <th>GEO_ID</th>\n",
       "      <th>NAME</th>\n",
       "      <th>S0101_C01_026E</th>\n",
       "    </tr>\n",
       "  </thead>\n",
       "  <tbody>\n",
       "    <tr>\n",
       "      <th>1</th>\n",
       "      <td>0500000US01001</td>\n",
       "      <td>Autauga County, Alabama</td>\n",
       "      <td>44438</td>\n",
       "    </tr>\n",
       "    <tr>\n",
       "      <th>2</th>\n",
       "      <td>0500000US01003</td>\n",
       "      <td>Baldwin County, Alabama</td>\n",
       "      <td>178105</td>\n",
       "    </tr>\n",
       "    <tr>\n",
       "      <th>3</th>\n",
       "      <td>0500000US01005</td>\n",
       "      <td>Barbour County, Alabama</td>\n",
       "      <td>19995</td>\n",
       "    </tr>\n",
       "    <tr>\n",
       "      <th>4</th>\n",
       "      <td>0500000US01007</td>\n",
       "      <td>Bibb County, Alabama</td>\n",
       "      <td>17800</td>\n",
       "    </tr>\n",
       "    <tr>\n",
       "      <th>5</th>\n",
       "      <td>0500000US01009</td>\n",
       "      <td>Blount County, Alabama</td>\n",
       "      <td>45201</td>\n",
       "    </tr>\n",
       "  </tbody>\n",
       "</table>\n",
       "</div>"
      ],
      "text/plain": [
       "           GEO_ID                     NAME  S0101_C01_026E\n",
       "1  0500000US01001  Autauga County, Alabama           44438\n",
       "2  0500000US01003  Baldwin County, Alabama          178105\n",
       "3  0500000US01005  Barbour County, Alabama           19995\n",
       "4  0500000US01007     Bibb County, Alabama           17800\n",
       "5  0500000US01009   Blount County, Alabama           45201"
      ]
     },
     "execution_count": 6,
     "metadata": {},
     "output_type": "execute_result"
    }
   ],
   "source": [
    "df2021 = pd.read_csv('/kaggle/input/census-data-for-godaddy/ACSST5Y2021.S0101-Data.csv',usecols=COLS)\n",
    "df2021 = df2021.iloc[1:]\n",
    "df2021['S0101_C01_026E'] = df2021['S0101_C01_026E'].astype('int')\n",
    "print( df2021.shape )\n",
    "df2021.head()"
   ]
  },
  {
   "cell_type": "markdown",
   "id": "627f4f9e",
   "metadata": {
    "papermill": {
     "duration": 0.005218,
     "end_time": "2023-02-21T07:39:55.997379",
     "exception": false,
     "start_time": "2023-02-21T07:39:55.992161",
     "status": "completed"
    },
    "tags": []
   },
   "source": [
    "# Merge Census 2020 2021"
   ]
  },
  {
   "cell_type": "code",
   "execution_count": 7,
   "id": "7e454f15",
   "metadata": {
    "execution": {
     "iopub.execute_input": "2023-02-21T07:39:56.011665Z",
     "iopub.status.busy": "2023-02-21T07:39:56.010358Z",
     "iopub.status.idle": "2023-02-21T07:39:56.045517Z",
     "shell.execute_reply": "2023-02-21T07:39:56.044365Z"
    },
    "papermill": {
     "duration": 0.045571,
     "end_time": "2023-02-21T07:39:56.048447",
     "exception": false,
     "start_time": "2023-02-21T07:39:56.002876",
     "status": "completed"
    },
    "tags": []
   },
   "outputs": [
    {
     "data": {
      "text/html": [
       "<div>\n",
       "<style scoped>\n",
       "    .dataframe tbody tr th:only-of-type {\n",
       "        vertical-align: middle;\n",
       "    }\n",
       "\n",
       "    .dataframe tbody tr th {\n",
       "        vertical-align: top;\n",
       "    }\n",
       "\n",
       "    .dataframe thead th {\n",
       "        text-align: right;\n",
       "    }\n",
       "</style>\n",
       "<table border=\"1\" class=\"dataframe\">\n",
       "  <thead>\n",
       "    <tr style=\"text-align: right;\">\n",
       "      <th></th>\n",
       "      <th>row_id</th>\n",
       "      <th>microbusiness_density</th>\n",
       "      <th>cfips</th>\n",
       "      <th>adult2020</th>\n",
       "      <th>adult2021</th>\n",
       "    </tr>\n",
       "  </thead>\n",
       "  <tbody>\n",
       "    <tr>\n",
       "      <th>0</th>\n",
       "      <td>1001_2022-11-01</td>\n",
       "      <td>3.470915</td>\n",
       "      <td>1001</td>\n",
       "      <td>42496</td>\n",
       "      <td>44438</td>\n",
       "    </tr>\n",
       "    <tr>\n",
       "      <th>1</th>\n",
       "      <td>1003_2022-11-01</td>\n",
       "      <td>8.250630</td>\n",
       "      <td>1003</td>\n",
       "      <td>171296</td>\n",
       "      <td>178105</td>\n",
       "    </tr>\n",
       "    <tr>\n",
       "      <th>2</th>\n",
       "      <td>1005_2022-11-01</td>\n",
       "      <td>1.252272</td>\n",
       "      <td>1005</td>\n",
       "      <td>19804</td>\n",
       "      <td>19995</td>\n",
       "    </tr>\n",
       "    <tr>\n",
       "      <th>3</th>\n",
       "      <td>1007_2022-11-01</td>\n",
       "      <td>1.287240</td>\n",
       "      <td>1007</td>\n",
       "      <td>17790</td>\n",
       "      <td>17800</td>\n",
       "    </tr>\n",
       "    <tr>\n",
       "      <th>4</th>\n",
       "      <td>1009_2022-11-01</td>\n",
       "      <td>1.852060</td>\n",
       "      <td>1009</td>\n",
       "      <td>44383</td>\n",
       "      <td>45201</td>\n",
       "    </tr>\n",
       "  </tbody>\n",
       "</table>\n",
       "</div>"
      ],
      "text/plain": [
       "            row_id  microbusiness_density  cfips  adult2020  adult2021\n",
       "0  1001_2022-11-01               3.470915   1001      42496      44438\n",
       "1  1003_2022-11-01               8.250630   1003     171296     178105\n",
       "2  1005_2022-11-01               1.252272   1005      19804      19995\n",
       "3  1007_2022-11-01               1.287240   1007      17790      17800\n",
       "4  1009_2022-11-01               1.852060   1009      44383      45201"
      ]
     },
     "execution_count": 7,
     "metadata": {},
     "output_type": "execute_result"
    }
   ],
   "source": [
    "df2020['cfips'] = df2020.GEO_ID.apply(lambda x: int(x.split('US')[-1]) )\n",
    "adult2020 = df2020.set_index('cfips').S0101_C01_026E.to_dict()\n",
    "\n",
    "df2021['cfips'] = df2021.GEO_ID.apply(lambda x: int(x.split('US')[-1]) )\n",
    "adult2021 = df2021.set_index('cfips').S0101_C01_026E.to_dict()\n",
    "\n",
    "sub['adult2020'] = sub.cfips.map(adult2020)\n",
    "sub['adult2021'] = sub.cfips.map(adult2021)\n",
    "sub.head()"
   ]
  },
  {
   "cell_type": "markdown",
   "id": "81d59545",
   "metadata": {
    "papermill": {
     "duration": 0.005487,
     "end_time": "2023-02-21T07:39:56.060218",
     "exception": false,
     "start_time": "2023-02-21T07:39:56.054731",
     "status": "completed"
    },
    "tags": []
   },
   "source": [
    "# Adjust Submission Microbusiness Density\n",
    "Since the formula is `microbusiness_density = 100 * active / adult_population`, then we need to divide microbusiness density by the ratio of `population_2021 / population_2020`."
   ]
  },
  {
   "cell_type": "code",
   "execution_count": 8,
   "id": "7cd58725",
   "metadata": {
    "execution": {
     "iopub.execute_input": "2023-02-21T07:39:56.073951Z",
     "iopub.status.busy": "2023-02-21T07:39:56.073504Z",
     "iopub.status.idle": "2023-02-21T07:39:56.154714Z",
     "shell.execute_reply": "2023-02-21T07:39:56.153474Z"
    },
    "papermill": {
     "duration": 0.090888,
     "end_time": "2023-02-21T07:39:56.157213",
     "exception": false,
     "start_time": "2023-02-21T07:39:56.066325",
     "status": "completed"
    },
    "tags": []
   },
   "outputs": [
    {
     "data": {
      "text/html": [
       "<div>\n",
       "<style scoped>\n",
       "    .dataframe tbody tr th:only-of-type {\n",
       "        vertical-align: middle;\n",
       "    }\n",
       "\n",
       "    .dataframe tbody tr th {\n",
       "        vertical-align: top;\n",
       "    }\n",
       "\n",
       "    .dataframe thead th {\n",
       "        text-align: right;\n",
       "    }\n",
       "</style>\n",
       "<table border=\"1\" class=\"dataframe\">\n",
       "  <thead>\n",
       "    <tr style=\"text-align: right;\">\n",
       "      <th></th>\n",
       "      <th>row_id</th>\n",
       "      <th>microbusiness_density</th>\n",
       "    </tr>\n",
       "  </thead>\n",
       "  <tbody>\n",
       "    <tr>\n",
       "      <th>0</th>\n",
       "      <td>1001_2022-11-01</td>\n",
       "      <td>3.319231</td>\n",
       "    </tr>\n",
       "    <tr>\n",
       "      <th>1</th>\n",
       "      <td>1003_2022-11-01</td>\n",
       "      <td>7.935207</td>\n",
       "    </tr>\n",
       "    <tr>\n",
       "      <th>2</th>\n",
       "      <td>1005_2022-11-01</td>\n",
       "      <td>1.240310</td>\n",
       "    </tr>\n",
       "    <tr>\n",
       "      <th>3</th>\n",
       "      <td>1007_2022-11-01</td>\n",
       "      <td>1.286517</td>\n",
       "    </tr>\n",
       "    <tr>\n",
       "      <th>4</th>\n",
       "      <td>1009_2022-11-01</td>\n",
       "      <td>1.818544</td>\n",
       "    </tr>\n",
       "  </tbody>\n",
       "</table>\n",
       "</div>"
      ],
      "text/plain": [
       "            row_id  microbusiness_density\n",
       "0  1001_2022-11-01               3.319231\n",
       "1  1003_2022-11-01               7.935207\n",
       "2  1005_2022-11-01               1.240310\n",
       "3  1007_2022-11-01               1.286517\n",
       "4  1009_2022-11-01               1.818544"
      ]
     },
     "execution_count": 8,
     "metadata": {},
     "output_type": "execute_result"
    }
   ],
   "source": [
    "sub.microbusiness_density = sub.microbusiness_density * sub.adult2020 / sub.adult2021\n",
    "sub = sub.drop(['adult2020','adult2021','cfips'],axis=1)\n",
    "sub.to_csv('submission.csv',index=False)\n",
    "sub.head()"
   ]
  }
 ],
 "metadata": {
  "kernelspec": {
   "display_name": "Python 3",
   "language": "python",
   "name": "python3"
  },
  "language_info": {
   "codemirror_mode": {
    "name": "ipython",
    "version": 3
   },
   "file_extension": ".py",
   "mimetype": "text/x-python",
   "name": "python",
   "nbconvert_exporter": "python",
   "pygments_lexer": "ipython3",
   "version": "3.7.12"
  },
  "papermill": {
   "default_parameters": {},
   "duration": 11.364217,
   "end_time": "2023-02-21T07:39:56.885272",
   "environment_variables": {},
   "exception": null,
   "input_path": "__notebook__.ipynb",
   "output_path": "__notebook__.ipynb",
   "parameters": {},
   "start_time": "2023-02-21T07:39:45.521055",
   "version": "2.3.4"
  }
 },
 "nbformat": 4,
 "nbformat_minor": 5
}
